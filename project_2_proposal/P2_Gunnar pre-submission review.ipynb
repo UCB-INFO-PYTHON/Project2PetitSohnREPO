{
 "cells": [
  {
   "cell_type": "markdown",
   "metadata": {},
   "source": [
    "#### Importing libraries \n",
    "In case of ModuleNotFoundError for plotly you may need to install via Anaconda Navigator. <br>\n",
    "> Install the below via cut-paste (individually) on Anaconda Prompt <br>\n",
    "- conda install plotly<br>\n",
    "-  conda install geopandas<br>\n",
    "-  pip install pyshp==1.2.10<br>\n",
    "\n",
    "Signup for Plotly API key @ https://plot.ly/api_signup\n"
   ]
  },
  {
   "cell_type": "code",
   "execution_count": 2,
   "metadata": {},
   "outputs": [],
   "source": [
    "import pandas as pd\n",
    "import matplotlib.pyplot as plt\n",
    "import numpy as np\n",
    "import plotly\n",
    "import plotly.plotly as py\n",
    "import plotly.figure_factory as ff\n",
    "plotly.tools.set_credentials_file(username='D8EH', api_key='sW19SIUQBx7rx5mQidzv')\n"
   ]
  },
  {
   "cell_type": "markdown",
   "metadata": {},
   "source": [
    "#### Importing Data"
   ]
  },
  {
   "cell_type": "code",
   "execution_count": 2,
   "metadata": {},
   "outputs": [],
   "source": [
    "#Eviction\n",
    "cities_df = pd.read_csv('cities.csv')\n",
    "\n",
    "#Realtor\n",
    "RDC_county_df = pd.read_csv('RDC_InventoryCoreMetrics_County.csv')"
   ]
  },
  {
   "cell_type": "markdown",
   "metadata": {},
   "source": [
    "#### GRC of data"
   ]
  },
  {
   "cell_type": "code",
   "execution_count": 30,
   "metadata": {},
   "outputs": [
    {
     "name": "stdout",
     "output_type": "stream",
     "text": [
      "cities_df is 502872 lines long\n",
      "RDC_county_df is 1001 lines long\n",
      "___cities_df head___\n",
      "    GEOID  year    name parent-location  population  poverty-rate  \\\n",
      "0  100100  2000  Abanda         Alabama         NaN           NaN   \n",
      "\n",
      "   renter-occupied-households  pct-renter-occupied  median-gross-rent  \\\n",
      "0                         NaN                  NaN                NaN   \n",
      "\n",
      "   median-household-income   ...    pct-nh-pi  pct-multiple  pct-other  \\\n",
      "0                      NaN   ...          NaN           NaN        NaN   \n",
      "\n",
      "   eviction-filings  evictions  eviction-rate  eviction-filing-rate  low-flag  \\\n",
      "0               NaN        NaN            NaN                   NaN         0   \n",
      "\n",
      "   imputed  subbed  \n",
      "0        0       0  \n",
      "\n",
      "[1 rows x 27 columns]\n",
      "___RDC_county_df head___\n",
      "                 Month  CountyFIPS       CountyName  Nielsen Rank Footnote  \\\n",
      "0  2018-11-01 00:00:00      6037.0  Los Angeles, CA           1.0      NaN   \n",
      "\n",
      "   Median Listing Price  Median Listing Price M/M  Median Listing Price Y/Y  \\\n",
      "0              685050.0                   -0.0065                     0.034   \n",
      "\n",
      "   Active Listing Count   Active Listing Count M/M        ...          \\\n",
      "0                19402.0                   -0.0021        ...           \n",
      "\n",
      "   Pending Listing Count Y/Y  Avg Listing Price  Avg Listing Price M/M  \\\n",
      "0                     0.7925          1438848.0                -0.0079   \n",
      "\n",
      "   Avg Listing Price Y/Y  Total Listing Count  Total Listing Count M/M  \\\n",
      "0                 0.0383              24519.5                  -0.0157   \n",
      "\n",
      "   Total Listing Count Y/Y  Pending Ratio  Pending Ratio M/M  \\\n",
      "0                   0.3361         0.2638            -0.0175   \n",
      "\n",
      "   Pending Ratio Y/Y  \n",
      "0             0.0795  \n",
      "\n",
      "[1 rows x 35 columns]\n",
      "Range of RDC_county_df['Median Listing Price']: $70024.25 - $1650050.0 \n"
     ]
    }
   ],
   "source": [
    "#Overall file line count\n",
    "print(f'cities_df is {len(cities_df)} lines long')\n",
    "print(f'RDC_county_df is {len(RDC_county_df)} lines long')\n",
    "\n",
    "#Head\n",
    "print('___cities_df head___')\n",
    "print(cities_df.head(1))\n",
    "print('___RDC_county_df head___')\n",
    "print(RDC_county_df.head(1))\n",
    "\n",
    "#Median Listing Price range\n",
    "print(f\"Range of RDC_county_df['Median Listing Price']: ${RDC_county_df['Median Listing Price'].min()} - ${RDC_county_df['Median Listing Price'].max()} \")"
   ]
  },
  {
   "cell_type": "markdown",
   "metadata": {},
   "source": [
    "#### Parsing data to determine mapping of cities (Eviction) to counties (Realtor) for 20 chosen cities\n",
    "- Finding exact names of 'cities' in 'cities_df' <br>\n",
    "- Finding exact names of 'counties' and State+County FIPS ID of interest in 'RDC_county_df'. Note that source table treated FIPS as float, whereas they should all be string. Significance is that there is no decimal and all values should be 5-digits long, including a leading '0' for any values that are 4-digit prior to decimal when shown in float. <br>\n",
    "- Upon visual sanitization, this output is going to cities_codex.csv, which will later be imported"
   ]
  },
  {
   "cell_type": "code",
   "execution_count": 6,
   "metadata": {},
   "outputs": [
    {
     "name": "stdout",
     "output_type": "stream",
     "text": [
      "___CITIES___\n",
      "\n",
      "San Fran: ['San Francisco']\n",
      "Portl: ['Portland']\n",
      "Denv: ['Denver City', 'Denver']\n",
      "Las Veg: ['Las Vegas']\n",
      "Phoenix: ['Phoenix Lake', 'Phoenix Lake-Cedar Ridge', 'Phoenixville', 'Phoenix']\n",
      "Seattle: ['Seattle Hill-Silver Firs', 'Seattle']\n",
      "Cheyenne: ['Cheyenne Wells', 'Cheyenne']\n",
      "St. Louis: ['St. Louis Park', 'St. Louis', 'St. Louisville']\n",
      "Chicago: ['Chicago Ridge', 'Chicago', 'Chicago Heights']\n",
      "Miami: ['Miami Lakes', 'Miami Springs', 'Miami Beach', 'Miami Heights', 'Miamitown', 'Miamiville', 'Miamisburg', 'Miami', 'Miami Shores', 'Miami Gardens']\n",
      "New York: ['New York', 'New York Mills']\n",
      "Kansas City: ['Kansas City']\n",
      "Nashville: ['Nashville-Davidson', 'Nashville']\n",
      "Los Angeles: ['Los Angeles']\n",
      "Dallas: ['Dallas Center', 'Dallas', 'Dallas City', 'Dallastown']\n",
      "Minneapolis: ['Minneapolis']\n",
      "Boston: ['Bostonia', 'Boston Heights', 'Boston']\n",
      "San Diego: ['San Diego Country Estates', 'San Diego']\n",
      "Philadelphia: ['Philadelphia']\n",
      "Orlando: ['Orlando']\n",
      "\n",
      "___COUNTIES___\n",
      "\n",
      "San F: [('San Francisco, CA', 6075.0)]\n",
      "Multn: [('Multnomah, OR', 41051.0)]\n",
      "Denve: [('Denver, CO', 8031.0)]\n",
      "Clark: [('Clark, NV', 32003.0), ('Clark, IN', 18019.0), ('Clark, WA', 53011.0), ('Clark, OH', 39023.0), ('Clarke, GA', 13059.0)]\n",
      "Maric: [('Maricopa, AZ', 4013.0)]\n",
      "King: [('Kings, NY', 36047.0), ('Kings, CA', 6031.0), ('King, WA', 53033.0)]\n",
      "Laram: [('Laramie, WY', 56021.0)]\n",
      "St. Lou: [('St. Louis, MN', 27137.0), ('St. Louis, MO', 29189.0)]\n",
      "Cook: [('Cook, IL', 17031.0)]\n",
      "Miami: [('Miami, OH', 39109.0), ('Miami-Dade, FL', 12086.0)]\n",
      "Kings: [('Kings, NY', 36047.0), ('Kings, CA', 6031.0)]\n",
      "Queen: [(\"Queen Anne's, MD\", 24035.0), ('Queens, NY', 36081.0)]\n",
      "New Y: [('New York, NY', 36061.0)]\n",
      "Bronx: [('Bronx, NY', 36005.0)]\n",
      "Richm: [('Richmond, NY', 36085.0), ('Richmond city, VA', 51760.0), ('Richmond, GA', 13245.0)]\n",
      "Jacks: [('Jackson, MO', 29095.0), ('Jackson, IL', 17077.0), ('Jackson, MI', 26075.0), ('Jackson, OR', 41029.0), ('Jackson, GA', 13157.0), ('Jackson, MS', 28059.0), ('Jackson, AL', 1071.0)]\n",
      "Clay: [('Clay, MO', 29047.0), ('Clay, FL', 12019.0), ('Clay, MN', 27027.0), ('Clayton, GA', 13063.0)]\n",
      "Platt: [('Platte, MO', 29165.0)]\n",
      "David: [('Davidson, TN', 47037.0), ('Davidson, NC', 37057.0)]\n",
      "Los A: [('Los Angeles, CA', 6037.0)]\n",
      "Dalla: [('Dallas, IA', 19049.0), ('Dallas, TX', 48113.0)]\n",
      "Henne: [('Hennepin, MN', 27053.0)]\n",
      "Suffo: [('Suffolk, NY', 36103.0), ('Suffolk city, VA', 51800.0), ('Suffolk, MA', 25025.0)]\n",
      "San D: [('San Diego, CA', 6073.0)]\n",
      "Phila: [('Philadelphia, PA', 42101.0)]\n",
      "Orang: [('Orange, CA', 6059.0), ('Orange, TX', 48361.0), ('Orange, NC', 37135.0), ('Orangeburg, SC', 45075.0), ('Orange, NY', 36071.0), ('Orange, FL', 12095.0)]\n"
     ]
    }
   ],
   "source": [
    "def city_beg_with (srch_strng, df = cities_df, field = 'name'):\n",
    "    '''Returns a list of city names from cities_df '''\n",
    "    print(srch_strng, end = ': ')\n",
    "    print(list(set(df[f'{field}'].loc[df[f'{field}'].str.startswith(srch_strng, na = False)])))\n",
    "    return\n",
    "\n",
    "def county_beg_with (srch_strng, df = RDC_county_df, field1 = 'CountyName', field2 = 'CountyFIPS'):\n",
    "    '''Returns a list of county names and State+County FIPS ID from RDC_county_df'''\n",
    "    print(srch_strng, end = ': ')\n",
    "    county_nm_list = list(set(df[f'{field1}'].loc[df[f'{field1}'].str.startswith(srch_strng, na = False)]))\n",
    "    county_FIPS_lst = []\n",
    "    for i in range(len(county_nm_list)):\n",
    "        county_FIPS_lst.append((county_nm_list[i], (df.loc[df[field1] == county_nm_list[i], field2].iloc[0])))\n",
    "    print(county_FIPS_lst)\n",
    "    return\n",
    "\n",
    "cities_lst = ['San Francisco', 'Portland', 'Denver', 'Las Vegas', 'Phoenix', 'Seattle', 'Cheyenne', 'St. Louis', 'Chicago', 'Miami', 'New York', 'Kansas City', 'Nashville', 'Los Angeles', 'Dallas', 'Minneapolis', 'Boston', 'San Diego', 'Philadelphia', 'Orlando']\n",
    "counties_lst = ['San F', 'Multn', 'Denve', 'Clark', 'Maric','King', 'Laram', 'St. Lou','Cook', 'Miami', 'Kings', 'Queen', 'New Y', 'Bronx', 'Richm', 'Jacks', 'Clay', 'Platt', 'David', 'Los A', 'Dalla', 'Henne','Suffo', 'San D', 'Phila', 'Orang']\n",
    "\n",
    "print('___CITIES___\\n')\n",
    "[city_beg_with(x) for x in cities_lst]\n",
    "\n",
    "print('\\n___COUNTIES___\\n')\n",
    "[county_beg_with(x) for x in counties_lst]\n",
    "pass"
   ]
  },
  {
   "cell_type": "markdown",
   "metadata": {},
   "source": [
    "#### Creating a clean CountyFIPS value\n",
    "\n",
    "Step1: Gross reality checking (GRC'ing) the head/tail of sorted 'CountyFIPS' column in 'RDC_county_df'.\n",
    "\n",
    "Problem 1: 'CountyFIPS' column in 'RDC_county_df' shows 1 NaN value in the final row. A NaN value will error further data manipulation.\n",
    "Clean 1: Drop final row using drop method.\n",
    "\n",
    "Problem 2: 'CountyFIPS' column in 'RDC_county_df' returns a float such as 6075.0 or 48113.0 whereas choropleth map uses values without decimal. \n",
    "Clean 2: Cast to float then string using astype method.\n",
    "\n",
    "Problem 3: FIPS should be 5-digit string (no decimal or value after decimal), yet 'CountyFIPS' column in 'RDC_county_df' is either 4 or 5 digits. \n",
    "Clean 3: Add leading zeroes using zfill method until len = 5"
   ]
  },
  {
   "cell_type": "code",
   "execution_count": 3,
   "metadata": {},
   "outputs": [
    {
     "name": "stdout",
     "output_type": "stream",
     "text": [
      "0     6037.0\n",
      "1    17031.0\n",
      "2    48201.0\n",
      "3     4013.0\n",
      "4     6073.0\n",
      "Name: CountyFIPS, dtype: float64\n",
      "996     24035.0\n",
      "997      5005.0\n",
      "998     13175.0\n",
      "999     54069.0\n",
      "1000        NaN\n",
      "Name: CountyFIPS, dtype: float64\n"
     ]
    }
   ],
   "source": [
    "#Creating copy of 'RDC_county_df' for clean mutating\n",
    "RDC_county_df_cln = RDC_county_df.copy()\n",
    "\n",
    "#GRC head/tail of sorted CountyFIPS for anomaly & printed for GRC\n",
    "RDC_county_df_cln.sort_values(by = 'CountyFIPS')\n",
    "print(RDC_county_df_cln['CountyFIPS'].head())\n",
    "print(RDC_county_df_cln['CountyFIPS'].tail())\n",
    "\n",
    "#Drop final row\n",
    "RDC_county_df_cln.drop(RDC_county_df_cln.tail(1).index, inplace = True)\n",
    "\n",
    "#Casting 'CountyFIPS' values to int then str\n",
    "RDC_county_df_cln['CountyFIPS'] = (RDC_county_df_cln['CountyFIPS'].astype('int')).astype('str')\n",
    "\n",
    "#Add leading zeroes using str.zfill(5) until len = 5\n",
    "RDC_county_df_cln['CountyFIPS'] = RDC_county_df_cln['CountyFIPS'].str.zfill(5)"
   ]
  },
  {
   "cell_type": "code",
   "execution_count": null,
   "metadata": {},
   "outputs": [],
   "source": []
  },
  {
   "cell_type": "markdown",
   "metadata": {},
   "source": [
    "#### Initial Mapping https://plot.ly/python/county-choropleth/"
   ]
  },
  {
   "cell_type": "code",
   "execution_count": 3,
   "metadata": {},
   "outputs": [
    {
     "name": "stderr",
     "output_type": "stream",
     "text": [
      "C:\\Users\\adamj\\Anaconda3\\lib\\site-packages\\pandas\\core\\frame.py:6211: FutureWarning:\n",
      "\n",
      "Sorting because non-concatenation axis is not aligned. A future version\n",
      "of pandas will change to not sort by default.\n",
      "\n",
      "To accept the future behavior, pass 'sort=False'.\n",
      "\n",
      "To retain the current behavior and silence the warning, pass 'sort=True'.\n",
      "\n",
      "\n"
     ]
    },
    {
     "name": "stdout",
     "output_type": "stream",
     "text": [
      "The draw time for this plot will be slow for clients without much RAM.\n"
     ]
    },
    {
     "name": "stderr",
     "output_type": "stream",
     "text": [
      "C:\\Users\\adamj\\Anaconda3\\lib\\site-packages\\plotly\\api\\v1\\clientresp.py:40: UserWarning:\n",
      "\n",
      "Estimated Draw Time Slow\n",
      "\n"
     ]
    },
    {
     "data": {
      "text/html": [
       "<iframe id=\"igraph\" scrolling=\"no\" style=\"border:none;\" seamless=\"seamless\" src=\"https://plot.ly/~D8EH/4.embed\" height=\"450px\" width=\"900px\"></iframe>"
      ],
      "text/plain": [
       "<plotly.tools.PlotlyDisplay object>"
      ]
     },
     "execution_count": 3,
     "metadata": {},
     "output_type": "execute_result"
    }
   ],
   "source": [
    "#This is a working template. Don't touch\n",
    "\n",
    "df_sample = pd.read_csv('https://raw.githubusercontent.com/plotly/datasets/master/laucnty16.csv')\n",
    "df_sample['State FIPS Code'] = df_sample['State FIPS Code'].apply(lambda x: str(x).zfill(2))\n",
    "df_sample['County FIPS Code'] = df_sample['County FIPS Code'].apply(lambda x: str(x).zfill(3))\n",
    "df_sample['FIPS'] = df_sample['State FIPS Code'] + df_sample['County FIPS Code']\n",
    "\n",
    "colorscale = [\"#f7fbff\",\"#ebf3fb\",\"#deebf7\",\"#d2e3f3\",\"#c6dbef\",\"#b3d2e9\",\"#9ecae1\",\n",
    "              \"#85bcdb\",\"#6baed6\",\"#57a0ce\",\"#4292c6\",\"#3082be\",\"#2171b5\",\"#1361a9\",\n",
    "              \"#08519c\",\"#0b4083\",\"#08306b\"]\n",
    "endpts = list(np.linspace(1, 12, len(colorscale) - 1))\n",
    "fips = df_sample['FIPS'].tolist()\n",
    "values = df_sample['Unemployment Rate (%)'].tolist()\n",
    "\n",
    "fig = ff.create_choropleth(\n",
    "    fips=fips, values=values, scope=['usa'],\n",
    "    binning_endpoints=endpts, colorscale=colorscale,\n",
    "    show_state_data=False,\n",
    "    show_hover=True, centroid_marker={'opacity': 0},\n",
    "    asp=2.9, title='USA by Unemployment %',\n",
    "    legend_title='% unemployed'\n",
    ")\n",
    "py.iplot(fig, filename='choropleth_full_usa')"
   ]
  },
  {
   "cell_type": "code",
   "execution_count": 27,
   "metadata": {},
   "outputs": [
    {
     "name": "stderr",
     "output_type": "stream",
     "text": [
      "C:\\Users\\adamj\\Anaconda3\\lib\\site-packages\\pandas\\core\\frame.py:6211: FutureWarning:\n",
      "\n",
      "Sorting because non-concatenation axis is not aligned. A future version\n",
      "of pandas will change to not sort by default.\n",
      "\n",
      "To accept the future behavior, pass 'sort=False'.\n",
      "\n",
      "To retain the current behavior and silence the warning, pass 'sort=True'.\n",
      "\n",
      "\n"
     ]
    },
    {
     "data": {
      "text/html": [
       "<iframe id=\"igraph\" scrolling=\"no\" style=\"border:none;\" seamless=\"seamless\" src=\"https://plot.ly/~D8EH/4.embed\" height=\"450px\" width=\"900px\"></iframe>"
      ],
      "text/plain": [
       "<plotly.tools.PlotlyDisplay object>"
      ]
     },
     "execution_count": 27,
     "metadata": {},
     "output_type": "execute_result"
    }
   ],
   "source": [
    "#This is the playground\n",
    "\n",
    "# df_sample = pd.read_csv('https://raw.githubusercontent.com/plotly/datasets/master/laucnty16.csv')\n",
    "# df_sample['State FIPS Code'] = df_sample['State FIPS Code'].apply(lambda x: str(x).zfill(2))\n",
    "# df_sample['County FIPS Code'] = df_sample['County FIPS Code'].apply(lambda x: str(x).zfill(3))\n",
    "# df_sample['FIPS'] = df_sample['State FIPS Code'] + df_sample['County FIPS Code']\n",
    "\n",
    "colorscale = [\"#f7fbff\",\"#ebf3fb\",\"#deebf7\",\"#d2e3f3\",\"#c6dbef\",\"#b3d2e9\",\"#9ecae1\",\n",
    "              \"#85bcdb\",\"#6baed6\",\"#57a0ce\",\"#4292c6\",\"#3082be\",\"#2171b5\",\"#1361a9\",\n",
    "              \"#08519c\",\"#0b4083\",\"#08306b\"]   \n",
    "endpts = list(np.linspace(0, 1700000, len(colorscale) - 1)) # \n",
    "fips = RDC_county_df_cln['CountyFIPS'].tolist()   \n",
    "values = RDC_county_df_cln['Median Listing Price'].tolist() \n",
    "\n",
    "fig = ff.create_choropleth(\n",
    "    fips=fips, values=values, scope=['usa'],\n",
    "    binning_endpoints=endpts, colorscale=colorscale,\n",
    "    show_state_data=False,\n",
    "    show_hover=True, centroid_marker={'opacity': 0},\n",
    "    asp=2.9, title='Median Listing Price',\n",
    "    legend_title='$'\n",
    ") # \n",
    "py.iplot(fig, filename='choropleth_full_usa') "
   ]
  },
  {
   "cell_type": "code",
   "execution_count": 15,
   "metadata": {
    "scrolled": true
   },
   "outputs": [
    {
     "name": "stdout",
     "output_type": "stream",
     "text": [
      "                   Month CountyFIPS CountyName  Nielsen Rank Footnote  \\\n",
      "955  2018-11-01 00:00:00      32007   Elko, NV         956.0      NaN   \n",
      "\n",
      "     Median Listing Price  Median Listing Price M/M  Median Listing Price Y/Y  \\\n",
      "955              289450.0                    0.0393                    0.0722   \n",
      "\n",
      "     Active Listing Count   Active Listing Count M/M        ...          \\\n",
      "955                  205.0                   -0.0682        ...           \n",
      "\n",
      "     Pending Listing Count Y/Y  Avg Listing Price  Avg Listing Price M/M  \\\n",
      "955                       -1.0           308284.0                 0.0198   \n",
      "\n",
      "     Avg Listing Price Y/Y  Total Listing Count  Total Listing Count M/M  \\\n",
      "955                 0.0509                205.0                  -0.0682   \n",
      "\n",
      "     Total Listing Count Y/Y  Pending Ratio  Pending Ratio M/M  \\\n",
      "955                  -0.0575            0.0                0.0   \n",
      "\n",
      "     Pending Ratio Y/Y  \n",
      "955            -0.0046  \n",
      "\n",
      "[1 rows x 35 columns]\n",
      "True\n"
     ]
    }
   ],
   "source": [
    "print(RDC_county_df_cln[RDC_county_df_cln['CountyName'] == 'Elko, NV'])\n",
    "print('32007' in RDC_county_df_cln['CountyFIPS'].tolist() )\n",
    "\n",
    "# print(RDC_county_df_cln[RDC_county_df_cln['CountyName' == 'Washoe, NV']])"
   ]
  },
  {
   "cell_type": "code",
   "execution_count": null,
   "metadata": {},
   "outputs": [],
   "source": []
  }
 ],
 "metadata": {
  "kernelspec": {
   "display_name": "Python 3",
   "language": "python",
   "name": "python3"
  },
  "language_info": {
   "codemirror_mode": {
    "name": "ipython",
    "version": 3
   },
   "file_extension": ".py",
   "mimetype": "text/x-python",
   "name": "python",
   "nbconvert_exporter": "python",
   "pygments_lexer": "ipython3",
   "version": "3.6.4"
  }
 },
 "nbformat": 4,
 "nbformat_minor": 2
}
